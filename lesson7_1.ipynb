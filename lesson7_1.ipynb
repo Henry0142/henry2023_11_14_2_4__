{
 "cells": [
  {
   "cell_type": "code",
   "execution_count": 2,
   "metadata": {},
   "outputs": [
    {
     "name": "stdout",
     "output_type": "stream",
     "text": [
      "請輸入第1月份存款:30000\n",
      "恭喜!已經存夠了,共存了1月份,總存款為:30000\n"
     ]
    }
   ],
   "source": [
    "#小明想要存錢買一輛機車,機車每輛30000元，他將每月存的錢輸入，當存款足夠買機車時，就顯示提示訊息告知。\n",
    "import pyinputplus as pyip\n",
    "deposit = 0\n",
    "month = 0\n",
    "while deposit < 30000:\n",
    "    month += 1\n",
    "    money_month = pyip.inputInt(f\"請輸入第{month}月份存款:\")    \n",
    "    print(money_month)\n",
    "    deposit += money_month\n",
    "\n",
    "print(f\"恭喜!已經存夠了,共存了{month}月份,總存款為:{deposit}\")"
   ]
  },
  {
   "cell_type": "code",
   "execution_count": 8,
   "metadata": {},
   "outputs": [
    {
     "name": "stdout",
     "output_type": "stream",
     "text": [
      "請輸入小寫英文[按q離開]:A\n",
      "請輸入小寫英文字[按q會離開]:Sdada\n",
      "請輸入小寫英文字[按q會離開]:Dada\n",
      "請輸入小寫英文字[按q會離開]:Gsgesg\n",
      "請輸入小寫英文字[按q會離開]:Zsgrsea\n",
      "請輸入小寫英文字[按q會離開]:R\n",
      "請輸入小寫英文字[按q會離開]:R\n",
      "請輸入小寫英文字[按q會離開]:R\n",
      "請輸入小寫英文字[按q會離開]:R\n",
      "請輸入小寫英文字[按q會離開]:Rq\n",
      "請輸入小寫英文字[按q會離開]:結束程式\n"
     ]
    }
   ],
   "source": [
    "stuff=pyip.inputStr(\"請輸入小寫英文[按q離開]:\")\n",
    "while(stuff != 'q'):\n",
    "    print(stuff.capitalize())\n",
    "    stuff = pyip.inputStr(\"請輸入小寫英文字[按q會離開]:\")\n",
    "    \n",
    "print(\"結束程式\")\n"
   ]
  }
 ],
 "metadata": {
  "kernelspec": {
   "display_name": "Python 3",
   "language": "python",
   "name": "python3"
  },
  "language_info": {
   "codemirror_mode": {
    "name": "ipython",
    "version": 3
   },
   "file_extension": ".py",
   "mimetype": "text/x-python",
   "name": "python",
   "nbconvert_exporter": "python",
   "pygments_lexer": "ipython3",
   "version": "3.10.13"
  }
 },
 "nbformat": 4,
 "nbformat_minor": 2
}
