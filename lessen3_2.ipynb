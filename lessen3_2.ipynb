{
 "cells": [
  {
   "cell_type": "code",
   "execution_count": 4,
   "metadata": {},
   "outputs": [
    {
     "data": {
      "text/plain": [
       "10"
      ]
     },
     "execution_count": 4,
     "metadata": {},
     "output_type": "execute_result"
    }
   ],
   "source": [
    "n=5\n",
    "n+5\n",
    "n"
   ]
  },
  {
   "cell_type": "code",
   "execution_count": null,
   "metadata": {},
   "outputs": [],
   "source": [
    "n=5\n",
    "n=n+5\n",
    "n"
   ]
  },
  {
   "cell_type": "code",
   "execution_count": 13,
   "metadata": {},
   "outputs": [
    {
     "name": "stdout",
     "output_type": "stream",
     "text": [
      "3數相加的總合是12\n"
     ]
    }
   ],
   "source": [
    "total = 0\n",
    "value = eval(input(\"請輸入第1個數值:\"))\n",
    "total = total + value\n",
    "\n",
    "value = eval(input(\"請輸入第2個數值:\"))\n",
    "total = total + value\n",
    "\n",
    "value = eval(input(\"請輸入第3個數值:\"))\n",
    "total = total + value\n",
    "\n",
    "print(f\"3數相加的總合是{total}\")\n"
   ]
  },
  {
   "cell_type": "code",
   "execution_count": 12,
   "metadata": {},
   "outputs": [
    {
     "name": "stdout",
     "output_type": "stream",
     "text": [
      "3數相加的總合是6\n"
     ]
    }
   ],
   "source": [
    "total = 0\n",
    "value = eval(input(\"請輸入第1個數值:\"))\n",
    "total +=value\n",
    "\n",
    "value = eval(input(\"請輸入第2個數值:\"))\n",
    "total +=value\n",
    "\n",
    "value = eval(input(\"請輸入第3個數值:\"))\n",
    "total +=value\n",
    "\n",
    "print(f\"3數相加的總合是{total}\")"
   ]
  },
  {
   "cell_type": "code",
   "execution_count": 17,
   "metadata": {},
   "outputs": [
    {
     "name": "stdout",
     "output_type": "stream",
     "text": [
      "對邊:25,斜邊:60\n",
      "角度為24.62\n"
     ]
    }
   ],
   "source": [
    "#高中數學\n",
    "import math\n",
    "\n",
    "side = eval(input(\"請輸入對邊:\"))\n",
    "another_side = eval(input(\"請輸入斜邊:\"))\n",
    "\n",
    "radian = math.asin(side/another_side)\n",
    "degree = math.degrees(radian)\n",
    "\n",
    "print(f\"對邊:{side},斜邊:{another_side}\")\n",
    "print(f\"角度為{degree:.2f}\")"
   ]
  },
  {
   "cell_type": "code",
   "execution_count": 26,
   "metadata": {},
   "outputs": [
    {
     "ename": "AttributeError",
     "evalue": "'float' object has no attribute 'pi'",
     "output_type": "error",
     "traceback": [
      "\u001b[0;31m---------------------------------------------------------------------------\u001b[0m",
      "\u001b[0;31mAttributeError\u001b[0m                            Traceback (most recent call last)",
      "\u001b[1;32m/workspaces/henry2023_11_14_2_4__/lessen3_2.ipynb Cell 6\u001b[0m line \u001b[0;36m1\n\u001b[0;32m----> <a href='vscode-notebook-cell://codespaces%2Blegendary-barnacle-pjj7vw75pp74h7v54/workspaces/henry2023_11_14_2_4__/lessen3_2.ipynb#W5sdnNjb2RlLXJlbW90ZQ%3D%3D?line=0'>1</a>\u001b[0m \u001b[39mfloat\u001b[39m(pi \u001b[39m=\u001b[39mmath\u001b[39m.\u001b[39;49mpi)\n\u001b[1;32m      <a href='vscode-notebook-cell://codespaces%2Blegendary-barnacle-pjj7vw75pp74h7v54/workspaces/henry2023_11_14_2_4__/lessen3_2.ipynb#W5sdnNjb2RlLXJlbW90ZQ%3D%3D?line=1'>2</a>\u001b[0m pi\n",
      "\u001b[0;31mAttributeError\u001b[0m: 'float' object has no attribute 'pi'"
     ]
    }
   ],
   "source": [
    "pi =math.pi\n",
    "\n"
   ]
  },
  {
   "cell_type": "code",
   "execution_count": 19,
   "metadata": {},
   "outputs": [
    {
     "data": {
      "text/plain": [
       "2.718281828459045"
      ]
     },
     "execution_count": 19,
     "metadata": {},
     "output_type": "execute_result"
    }
   ],
   "source": [
    "math=math.e\n",
    "math"
   ]
  }
 ],
 "metadata": {
  "kernelspec": {
   "display_name": "Python 3",
   "language": "python",
   "name": "python3"
  },
  "language_info": {
   "codemirror_mode": {
    "name": "ipython",
    "version": 3
   },
   "file_extension": ".py",
   "mimetype": "text/x-python",
   "name": "python",
   "nbconvert_exporter": "python",
   "pygments_lexer": "ipython3",
   "version": "3.10.13"
  }
 },
 "nbformat": 4,
 "nbformat_minor": 2
}
