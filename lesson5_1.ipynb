{
 "cells": [
  {
   "cell_type": "code",
   "execution_count": 7,
   "metadata": {},
   "outputs": [
    {
     "ename": "NameError",
     "evalue": "name 'd' is not defined",
     "output_type": "error",
     "traceback": [
      "\u001b[0;31m---------------------------------------------------------------------------\u001b[0m",
      "\u001b[0;31mNameError\u001b[0m                                 Traceback (most recent call last)",
      "\u001b[1;32m/workspaces/henry2023_11_14_2_4__/lesson5_1.ipynb 儲存格 1\u001b[0m line \u001b[0;36m1\n\u001b[0;32m----> <a href='vscode-notebook-cell://codespaces%2Blegendary-barnacle-pjj7vw75pp74h7v54/workspaces/henry2023_11_14_2_4__/lesson5_1.ipynb#W0sdnNjb2RlLXJlbW90ZQ%3D%3D?line=0'>1</a>\u001b[0m money \u001b[39m=\u001b[39m \u001b[39meval\u001b[39;49m(\u001b[39minput\u001b[39;49m(\u001b[39m\"\u001b[39;49m\u001b[39m請輸入金額\u001b[39;49m\u001b[39m\"\u001b[39;49m))\n\u001b[1;32m      <a href='vscode-notebook-cell://codespaces%2Blegendary-barnacle-pjj7vw75pp74h7v54/workspaces/henry2023_11_14_2_4__/lesson5_1.ipynb#W0sdnNjb2RlLXJlbW90ZQ%3D%3D?line=1'>2</a>\u001b[0m \u001b[39mprint\u001b[39m(money)\n",
      "File \u001b[0;32m<string>:1\u001b[0m\n",
      "\u001b[0;31mNameError\u001b[0m: name 'd' is not defined"
     ]
    }
   ],
   "source": [
    "money = eval(input(\"請輸入金額\"))\n",
    "print(money)"
   ]
  },
  {
   "cell_type": "code",
   "execution_count": 10,
   "metadata": {},
   "outputs": [
    {
     "name": "stdout",
     "output_type": "stream",
     "text": [
      "32\n",
      "應用程式結束\n"
     ]
    }
   ],
   "source": [
    "#處理raise Exception\n",
    "try:\n",
    "    money = int(input(\"請輸入金額(請輸入整數):\"))\n",
    "    print(money)\n",
    "except:\n",
    "    print(\"輸入格式有問題\")\n",
    "\n",
    "print(\"應用程式結束\")"
   ]
  },
  {
   "cell_type": "code",
   "execution_count": 13,
   "metadata": {},
   "outputs": [
    {
     "name": "stdout",
     "output_type": "stream",
     "text": [
      "不知名的錯誤\n",
      "應用程式結束\n"
     ]
    }
   ],
   "source": [
    "#處理raise Exception\n",
    "try:\n",
    "    money = int(input(\"請輸入金額(請輸入整數):\"))\n",
    "    f1 = eval(input(\"請輸入浮點數:\"))\n",
    "    raise KeyboardInterrupt\n",
    "    print(money)\n",
    "except SyntaxError:\n",
    "    print(\"輸入浮點數時有問題\")\n",
    "except ValueError:\n",
    "    print(\"輸入金額時有問題\")\n",
    "except:\n",
    "    print(\"不知名的錯誤\")\n",
    "\n",
    "print(\"應用程式結束\")"
   ]
  },
  {
   "cell_type": "code",
   "execution_count": 1,
   "metadata": {},
   "outputs": [
    {
     "name": "stdout",
     "output_type": "stream",
     "text": [
      "輸入金額時有問題\n",
      "應用程式結束\n"
     ]
    }
   ],
   "source": [
    "#try except else\n",
    "try:\n",
    "    money = int(input(\"請輸入金額(請輸入整數):\"))\n",
    "    f1 = eval(input(\"請輸入浮點數:\"))    \n",
    "except SyntaxError:\n",
    "    print(\"輸入浮點數時有問題\")\n",
    "except ValueError:\n",
    "    print(\"輸入金額時有問題\")\n",
    "except:\n",
    "    print(\"不知名的錯誤\")\n",
    "else:\n",
    "    print(money)\n",
    "    print(f1)\n",
    "\n",
    "print(\"應用程式結束\")"
   ]
  },
  {
   "cell_type": "code",
   "execution_count": null,
   "metadata": {},
   "outputs": [],
   "source": [
    "#學生總分為300\n",
    "#要檢查學生輸入分數是<=300\n",
    "#要檢查是否輸入格式是否正確\n",
    "#有些學生可以加分5%\n",
    "#如果加分超過300,就以300分為準\n",
    "try:\n",
    "    scores = int(input(\"請輸入學生分數(最高300分):\"))    \n",
    "except ValueError:\n",
    "    print(\"格式有錯\")\n",
    "except:\n",
    "    print(\"不知名的錯誤\")\n",
    "else:\n",
    "    if scores <= 300:\n",
    "        is_add = input(\"學生是否符合加分條件?(y,n)\")\n",
    "\n",
    "        if(is_add == \"y\"):\n",
    "            scores *= 1.05\n",
    "            if scores > 300:\n",
    "                scores = 300\n",
    "        print(f\"學生分數是{round(scores)}\")\n",
    "    else:\n",
    "        print(\"學生分數不可以大於300\")\n",
    "\n",
    "#print(f\"學生分數是{scores:.0f}\")\n",
    "#print(f\"學生分數是{int(scores)}\")"
   ]
  }
 ],
 "metadata": {
  "kernelspec": {
   "display_name": "Python 3",
   "language": "python",
   "name": "python3"
  },
  "language_info": {
   "codemirror_mode": {
    "name": "ipython",
    "version": 3
   },
   "file_extension": ".py",
   "mimetype": "text/x-python",
   "name": "python",
   "nbconvert_exporter": "python",
   "pygments_lexer": "ipython3",
   "version": "3.10.13"
  }
 },
 "nbformat": 4,
 "nbformat_minor": 2
}
