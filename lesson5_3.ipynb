{
 "cells": [
  {
   "cell_type": "code",
   "execution_count": 10,
   "metadata": {},
   "outputs": [
    {
     "name": "stdout",
     "output_type": "stream",
     "text": [
      "請輸入學生分數(最高100分):優\n",
      "學生分數80\n"
     ]
    }
   ],
   "source": [
    "import pyinputplus as pyip\n",
    "scores = pyip.inputInt(\"請輸入學生分數(最高100分):\",min=0,max=100)\n",
    "if scores<60 :\n",
    "    print(\"不及格\")\n",
    "    print(f\"學生分數{scores}\")\n",
    "if scores>=60:\n",
    "    if scores<=79:\n",
    "        print(\"及格\")\n",
    "        print(f\"學生分數{scores}\")\n",
    "    else :\n",
    "        print(\"優\")\n",
    "        print(f\"學生分數{scores}\")"
   ]
  },
  {
   "cell_type": "code",
   "execution_count": null,
   "metadata": {},
   "outputs": [],
   "source": []
  }
 ],
 "metadata": {
  "kernelspec": {
   "display_name": "Python 3",
   "language": "python",
   "name": "python3"
  },
  "language_info": {
   "codemirror_mode": {
    "name": "ipython",
    "version": 3
   },
   "file_extension": ".py",
   "mimetype": "text/x-python",
   "name": "python",
   "nbconvert_exporter": "python",
   "pygments_lexer": "ipython3",
   "version": "3.10.13"
  }
 },
 "nbformat": 4,
 "nbformat_minor": 2
}
