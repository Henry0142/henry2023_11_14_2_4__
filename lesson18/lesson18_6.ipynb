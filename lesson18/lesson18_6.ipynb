{
 "cells": [
  {
   "cell_type": "code",
   "execution_count": 1,
   "metadata": {},
   "outputs": [],
   "source": [
    "import pandas as pd\n",
    "\n",
    "dataFrame = pd.read_csv(\"world.csv\",usecols=['國家','日期','總確診數','新增確診數'])\n",
    "USdata = dataFrame.query('國家==\"美國\"')\n",
    "sortedFrame = USdata.sort_values(by='新增確診數',ascending=False)\n",
    "sortedFrame.iloc[:100]\n",
    "sortedFrame.to_json('cov19USA.json',force_ascii=False,orient='table')"
   ]
  }
 ],
 "metadata": {
  "kernelspec": {
   "display_name": "Python 3",
   "language": "python",
   "name": "python3"
  },
  "language_info": {
   "codemirror_mode": {
    "name": "ipython",
    "version": 3
   },
   "file_extension": ".py",
   "mimetype": "text/x-python",
   "name": "python",
   "nbconvert_exporter": "python",
   "pygments_lexer": "ipython3",
   "version": "3.10.13"
  }
 },
 "nbformat": 4,
 "nbformat_minor": 2
}
