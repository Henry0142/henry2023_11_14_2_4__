{
 "cells": [
  {
   "cell_type": "code",
   "execution_count": null,
   "metadata": {},
   "outputs": [],
   "source": [
    "subjects = []\n",
    "for i in range(5):\n",
    "    subjects.append(f'科目{i+1}')\n",
    "names = [\"姓名\"]\n",
    "names.extend(subjects)\n",
    "names"
   ]
  }
 ],
 "metadata": {
  "language_info": {
   "name": "python"
  }
 },
 "nbformat": 4,
 "nbformat_minor": 2
}
